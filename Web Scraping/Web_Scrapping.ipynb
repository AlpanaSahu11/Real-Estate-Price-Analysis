{
 "cells": [
  {
   "cell_type": "markdown",
   "id": "d2d5886c-49b9-4a94-8cc3-3a207127c7f2",
   "metadata": {},
   "source": [
    "# Chennai\n",
    "# Kolkata\n",
    "# Coimbatore (Tamil Nadu)\n",
    "# Patna (Bihar)\n",
    "# Vijayawada (Andhra Pradesh)\n"
   ]
  },
  {
   "cell_type": "code",
   "execution_count": null,
   "id": "926eb939",
   "metadata": {},
   "outputs": [],
   "source": [
    "pip install selenium\n",
    "pip install webdriver-manager\n",
    "pip install pandas\n"
   ]
  },
  {
   "cell_type": "code",
   "execution_count": 150,
   "id": "7cd64cd4-52ce-4b3e-8624-592878d19624",
   "metadata": {},
   "outputs": [],
   "source": [
    "from selenium import webdriver\n",
    "from selenium.webdriver.common.keys import Keys\n",
    "from selenium.webdriver.common.by import By\n",
    "import pandas as pd\n",
    "import time\n"
   ]
  },
  {
   "cell_type": "code",
   "execution_count": 151,
   "id": "d7aac11d-a8a5-475f-bae0-2e4373c72a63",
   "metadata": {},
   "outputs": [],
   "source": [
    "from selenium.webdriver.support.ui import WebDriverWait\n",
    "from selenium.common.exceptions import TimeoutException\n",
    "from selenium.webdriver.support import expected_conditions as EC\n",
    "\n",
    "from selenium.webdriver.common.action_chains import ActionChains\n",
    "from selenium.webdriver.chrome.service import Service\n",
    "from webdriver_manager.chrome import ChromeDriverManager"
   ]
  },
  {
   "cell_type": "code",
   "execution_count": 152,
   "id": "0030fc84-6607-4cb6-b93c-76c937257ba0",
   "metadata": {},
   "outputs": [],
   "source": [
    "import matplotlib.pyplot as plt\n",
    "import seaborn as sns\n",
    "import numpy as np"
   ]
  },
  {
   "cell_type": "code",
   "execution_count": 154,
   "id": "62023e4a-4611-4b64-b90b-919ba0ee631c",
   "metadata": {},
   "outputs": [],
   "source": [
    "from selenium import webdriver"
   ]
  },
  {
   "cell_type": "code",
   "execution_count": 155,
   "id": "8a5e8179-d6d3-43bd-85b5-5cb1b1c792fc",
   "metadata": {},
   "outputs": [],
   "source": [
    "driver = webdriver.Chrome()\n",
    "\n",
    "driver.maximize_window()"
   ]
  },
  {
   "cell_type": "code",
   "execution_count": 156,
   "id": "85616b61-d2b1-4033-9685-868609b60258",
   "metadata": {},
   "outputs": [],
   "source": [
    "#https://www.squareyards.com/sale/property-for-sale-in-\n",
    "url = 'https://www.squareyards.com/sale/property-for-sale-in-delhi'\n",
    "driver.get(url)"
   ]
  },
  {
   "cell_type": "code",
   "execution_count": 157,
   "id": "456b5195-94cf-4b72-925d-93360451d4e5",
   "metadata": {},
   "outputs": [],
   "source": [
    "property_type = []\n",
    "address = []\n",
    "price_range = []\n",
    "total_area = []\n",
    "all_features = []\n",
    "listing_type= []"
   ]
  },
  {
   "cell_type": "code",
   "execution_count": 158,
   "id": "1f0e1bff-6195-4390-b1fe-87ae5f19ccc0",
   "metadata": {},
   "outputs": [],
   "source": [
    "amenities = []\n",
    "project_info_text = [] # List to store whiteBody content for each page\n",
    "price = []"
   ]
  },
  {
   "cell_type": "code",
   "execution_count": 159,
   "id": "20989658-54bf-4cf9-ba7f-21b5393f4020",
   "metadata": {},
   "outputs": [
    {
     "name": "stdout",
     "output_type": "stream",
     "text": [
      "19\n",
      "19\n",
      "18\n",
      "18\n",
      "28\n",
      "32\n",
      "32\n",
      "30\n",
      "28\n",
      "36\n",
      "33\n",
      "29\n",
      "25\n",
      "29\n",
      "36\n",
      "17\n",
      "21\n",
      "35\n",
      "37\n",
      "33\n",
      "32\n",
      "39\n",
      "18\n",
      "28\n",
      "35\n",
      "26\n",
      "32\n",
      "36\n",
      "36\n",
      "29\n",
      "35\n",
      "39\n",
      "38\n",
      "38\n",
      "34\n",
      "39\n",
      "36\n",
      "45\n",
      "45\n",
      "44\n",
      "41\n",
      "47\n",
      "40\n",
      "44\n",
      "40\n",
      "40\n",
      "42\n",
      "46\n",
      "26\n",
      "31\n",
      "30\n",
      "27\n",
      "25\n",
      "34\n",
      "32\n",
      "31\n",
      "28\n",
      "29\n",
      "31\n"
     ]
    }
   ],
   "source": [
    "\n",
    "\n",
    "\n",
    "# /html/body/div[6]/div/div/div[1]/div[2]/div[2]/div/div/div[9]/div\n",
    "\n",
    "for i in range(41, 100):\n",
    "    driver.get(f\"https://www.squareyards.com/sale/property-for-sale-in-delhi?page={i}\")\n",
    "    time.sleep(np.random.randint(2, 3))\n",
    "\n",
    "    elements = driver.find_elements(By.XPATH, \"//div[contains(@class, 'dseprojectdata') and contains(@class, 'tileNo_')]\")\n",
    "    time.sleep(np.random.randint(2, 3))\n",
    "    print(len(elements))\n",
    "    inc = 1\n",
    "#------------------------------------------------------------------------------------------------------------------------------------------\n",
    "#------------------------------------------------------------------------------------------------------------------------------------------\n",
    "    for j in elements:\n",
    "        try:\n",
    "            driver.execute_script(\"arguments[0].scrollIntoView(true);\", j)\n",
    "            time.sleep(np.random.uniform(1, 2))  # Small delay for stability\n",
    "            j.click()\n",
    "            driver.switch_to.window(driver.window_handles[1])\n",
    "            # Ensure the page has loaded fully\n",
    "            WebDriverWait(driver, 10).until(EC.presence_of_element_located((By.TAG_NAME, \"body\")))\n",
    "#------------------------------------------------------------------------------------------------------------------------------------------\n",
    "            # Retrieve listing type\n",
    "            try:\n",
    "                # Get price\n",
    "                price_element = WebDriverWait(driver, 10).until(\n",
    "                    EC.presence_of_element_located((By.XPATH, \"/html/body/div[4]/div[2]/div[2]/div[1]/strong\"))\n",
    "                )\n",
    "                price.append(price_element.text)\n",
    "            except TimeoutException:\n",
    "                price.append(None)\n",
    "#------------------------------------------------------------------------------------------------------------------------------------------\n",
    "\n",
    "            # Retrieve project information using the ID \"projectInformation\"\n",
    "            try:\n",
    "                project_info_element = WebDriverWait(driver, 10).until(\n",
    "                    EC.presence_of_element_located((By.ID, \"projectInformation\"))\n",
    "                )\n",
    "                project_info_text.append(project_info_element.text)\n",
    "            except TimeoutException:\n",
    "                project_info_text.append(None)\n",
    "            time.sleep(np.random.randint(2, 3))\n",
    "#------------------------------------------------------------------------------------------------------------------------------------------\n",
    "# Retrieve amenities-----------------------------------------------------------------------------------------------------------------------\n",
    "            \n",
    "            try:\n",
    "                # Find all amenities matching the pattern\n",
    "                amenities_elements = driver.find_elements(By.XPATH, \"/html/body/div[6]/div/div/div[1]/div[3]/div[2]/div/div\")\n",
    "                amenities_text = \"\"\n",
    "    \n",
    "                # Loop through each amenity and append to the text string\n",
    "                for idx in range(1, len(amenities_elements) + 1):\n",
    "                    amenity_xpath = f\"/html/body/div[6]/div/div/div[1]/div[3]/div[2]/div/div[{idx}]\"\n",
    "                    try:\n",
    "                        amenity_element = WebDriverWait(driver, 5).until(\n",
    "                            EC.presence_of_element_located((By.XPATH, amenity_xpath))\n",
    "                        )\n",
    "                        amenities_text += amenity_element.text + \", \"\n",
    "                    except TimeoutException:\n",
    "                        amenities_text += \"None, \"  # Use \"None\" as a placeholder for missing amenities\n",
    "\n",
    "                # Remove trailing comma and space, then append the single string to the main list\n",
    "                amenities.append(amenities_text.rstrip(\", \"))\n",
    "            except :\n",
    "                amenities.append(\"No amenities found\") \n",
    "\n",
    "#------------------------------------------------------------------------------------------------------------------------------------------\n",
    "            inc += 1\n",
    "\n",
    "            driver.close()\n",
    "            driver.switch_to.window(driver.window_handles[0])\n",
    "        except:\n",
    "            continue\n",
    "#------------------------------------------------------------------------------------------------------------------------------------------\n",
    "#------------------------------------------------------------------------------------------------------------------------------------------\n",
    "# # After the loop, you can inspect both listing_type, amenities, and project_info_text lists\n",
    "# print(\"Listing Types:\", listing_type)\n",
    "# print(\"Amenities:\", amenities)\n",
    "# print(\"Project Info Content:\", project_info_text)\n",
    "\n",
    "\n",
    "          \n"
   ]
  },
  {
   "cell_type": "code",
   "execution_count": 160,
   "id": "7ab6cde5-b5c2-4005-bba1-4ae90ea2efa8",
   "metadata": {
    "scrolled": true
   },
   "outputs": [
    {
     "name": "stdout",
     "output_type": "stream",
     "text": [
      "1628\n",
      "1628\n",
      "1628\n"
     ]
    }
   ],
   "source": [
    "print(len(price), len(amenities), len(project_info_text) , sep=\"\\n\")"
   ]
  },
  {
   "cell_type": "code",
   "execution_count": 169,
   "id": "f29750cb-2d0b-4bb4-9fd1-3805fc0bd22e",
   "metadata": {
    "scrolled": true
   },
   "outputs": [
    {
     "name": "stdout",
     "output_type": "stream",
     "text": [
      "['₹ 82 L', '₹ 14 L', '₹ 50 L', '₹ 75 L', '₹ 33.5 L', '₹ 52 L', '₹ 14 L', '₹ 60 L', '₹ 38 L', '₹ 62 L', '₹ 32 L', '₹ 75 L', '₹ 65 L', None, '₹ 85 L', '₹ 30 L', '₹ 7.5 Cr.', '₹ 7.25 Cr.', '₹ 46 L', '₹ 75 L', '₹ 16.25 Cr.', 'Price on Request', '₹ 3.75 Cr.', '₹ 45 L', '₹ 80 L', '₹ 66 L', '₹ 78 L', '₹ 45 L', '₹ 60 L', '₹ 45 L', None, '₹ 85.5 L', 'Price on Request', '₹ 39.5 L', '₹ 24.5 L', '₹ 25 L', '₹ 44.5 L', '₹ 70 L', '₹ 52 L', '₹ 57 L', '₹ 3.9 Cr.', '₹ 2.32 Cr.', '₹ 22 L', '₹ 60 L', '₹ 7 Cr.', '₹ 37 L', '₹ 8.5 Cr.', '₹ 65 L', '₹ 75 L', '₹ 34 L', '₹ 45 L', '₹ 1.35 Cr.', '₹ 70 L', '₹ 46 L', '₹ 38 L', '₹ 55 L', '₹ 48 L', '₹ 70 L', '₹ 1.8 Cr.', '₹ 1.2 Cr.', '₹ 65 L', '₹ 59 L', '₹ 65 L', '₹ 75 L', '₹ 95 L', '₹ 65 L', '₹ 27 L', '₹ 43 L', '₹ 3.8 Cr.', '₹ 15.5 Cr.', '₹ 65 L', '₹ 22 L', '₹ 57 L', '₹ 26 L', '₹ 2.3 Cr.', '₹ 6.5 Cr.', '₹ 48 L', '₹ 85 L', '₹ 45 L', '₹ 70 L', '₹ 45 L', '₹ 42 L', '₹ 45 L', '₹ 45 L', '₹ 59.99 L', '₹ 75 L', '₹ 55 L', '₹ 78 L', '₹ 42 L', '₹ 28.5 L', '₹ 38 L', '₹ 10.25 Cr.', '₹ 1.35 Cr.', '₹ 2.8 Cr.', '₹ 3.55 Cr.', '₹ 42 L', '₹ 45 L', '₹ 32 L', '₹ 5.25 Cr.', '₹ 20 L', '₹ 48 L', '₹ 12 Cr.', '₹ 9.75 Cr.', '₹ 1.25 Cr.', '₹ 2.75 Cr.', '₹ 11.25 Cr.', '₹ 3.3 Cr.', '₹ 36 L', '₹ 90 L', '₹ 26 L', '₹ 2.9 Cr.', '₹ 140 Cr.', '₹ 27 L', '₹ 65 L', '₹ 40 L', '₹ 50 L', '₹ 60 L', '₹ 55 L', '₹ 50 L', '₹ 75 L', '₹ 7 Cr.', '₹ 85 L', '₹ 48 L', '₹ 39 L', '₹ 1.9 Cr.', '₹ 1.4 Cr.', '₹ 50 L', '₹ 2.95 Cr.', '₹ 55 L', '₹ 50 L', '₹ 2.1 Cr.', '₹ 8.5 Cr.', '₹ 2.1 Cr.', '₹ 6.5 Cr.', '₹ 3.75 Cr.', 'Price on Request', '₹ 42 L', '₹ 27 L', '₹ 65 L', '₹ 15.5 L', '₹ 1.35 Cr.', '₹ 90 L', '₹ 2.5 Cr.', '₹ 1.5 Cr.', '₹ 50 L', '₹ 6 Cr.', '₹ 4.25 Cr.', '₹ 1.1 Cr.', '₹ 3 Cr.', '₹ 80 L', '₹ 38 L', '₹ 1.9 Cr.', '₹ 45 L', '₹ 2.15 Cr.', '₹ 25 L', '₹ 1.45 Cr.', '₹ 3.45 Cr.', '₹ 3.85 Cr.', '₹ 2.95 Cr.', '₹ 3.75 Cr.', '₹ 50 L', '₹ 40 L', '₹ 6.5 Cr.', '₹ 1 Cr.', '₹ 3.75 Cr.', '₹ 85 L', '₹ 51 L', 'Price on Request', '₹ 50 L', 'Price on Request', '₹ 1.15 Cr.', '₹ 5.9 Cr.', '₹ 75 L', '₹ 6.9 Cr.', '₹ 3.6 Cr.', '₹ 3.15 Cr.', '₹ 3.6 Cr.', '₹ 1.15 Cr.', '₹ 26 L', '₹ 55 L', '₹ 3.75 Cr.', '₹ 9 Cr.', '₹ 72 L', '₹ 45 L', '₹ 95 L', '₹ 65 L', '₹ 6 Cr.', '₹ 5.8 Cr.', '₹ 50 L', '₹ 72 L', '₹ 58 L', '₹ 9 Cr.', '₹ 2.75 Cr.', '₹ 80 L', '₹ 2.65 Cr.', '₹ 74 L', '₹ 2.7 Cr.', '₹ 1.4 Cr.', '₹ 3.45 Cr.', '₹ 2.15 Cr.', '₹ 6.35 Cr.', '₹ 1.3 Cr.', '₹ 1.9 Cr.', '₹ 1.25 Cr.', None, '₹ 2.65 Cr.', '₹ 1.65 Cr.', '₹ 3.75 Cr.', 'Price on Request', '₹ 50 L', '₹ 55 L', '₹ 35 L', 'Price on Request', '₹ 23 L', '₹ 2.65 Cr.', '₹ 5 Cr.', '₹ 2.05 Cr.', '₹ 82 L', '₹ 5.75 Cr.', '₹ 70 L', '₹ 75 L', '₹ 14 Cr.', '₹ 20 L', '₹ 2.25 Cr.', '₹ 40 L', None, '₹ 3.2 Cr.', '₹ 14 L', '₹ 1.35 Cr.', '₹ 33 L', '₹ 55 L', '₹ 27 L', '₹ 31 L', '₹ 9.05 Cr.', '₹ 71 L', 'Price on Request', '₹ 2.48 Cr.', '₹ 19.91 L', '₹ 65 L', '₹ 31 L', '₹ 3.5 Cr.', '₹ 80 L', '₹ 3.04 Cr.', '₹ 1.8 Cr.', '₹ 4 Cr.', '₹ 45 L', '₹ 25.9 L', '₹ 16.5 Cr.', '₹ 25 L', '₹ 44 L', '₹ 15.25 Cr.', 'Price on Request', '₹ 4 Cr.', '₹ 1.8 Cr.', '₹ 2.65 Cr.', '₹ 26.5 L', '₹ 1.25 Cr.', '₹ 1.19 Cr.', '₹ 45 L', '₹ 4.5 Cr.', '₹ 75 L', '₹ 1.65 Cr.', '₹ 3.1 Cr.', '₹ 25 L', '₹ 1.25 Cr.', '₹ 2.75 Cr.', '₹ 30 L', '₹ 1 Cr.', '₹ 90 L', '₹ 33 Cr.', '₹ 1.8 Cr.', '₹ 31 L', 'Price on Request', '₹ 2 Cr.', '₹ 46 L', '₹ 72.5 L', '₹ 12.31 Cr.', '₹ 1.24 Cr.', '₹ 1.85 Cr.', '₹ 2.99 Cr.', '₹ 2 Cr.', '₹ 1.61 Cr.', '₹ 37.5 L', '₹ 2.75 Cr.', '₹ 12.31 Cr.', '₹ 4 Cr.', '₹ 2.8 Cr.', '₹ 1.35 Cr.', '₹ 5 Cr.', '₹ 45 L', '₹ 2.59 Cr.', '₹ 1.4 Cr.', '₹ 8 Cr.', '₹ 60 L', '₹ 58 L', '₹ 47 L', '₹ 3.7 Cr.', '₹ 3.15 Cr.', '₹ 3.01 Cr.', '₹ 36.5 L', '₹ 60 L', '₹ 2.75 Cr.', '₹ 70 L', '₹ 34 L', '₹ 3.6 Cr.', '₹ 2.48 Cr.', '₹ 3.4 Cr.', '₹ 55 L', '₹ 82 L', '₹ 6.75 Cr.', '₹ 46 L', '₹ 12.5 Cr.', '₹ 67 L', '₹ 1.19 Cr.', '₹ 3.2 Cr.', '₹ 1.45 Cr.', '₹ 1.59 Cr.', '₹ 4.3 Cr.', 'Price on Request', '₹ 5.5 Cr.', '₹ 2.56 Cr.', '₹ 5.5 Cr.', '₹ 3.48 Cr.', '₹ 2.1 Cr.', '₹ 32.21 L', '₹ 80 L', '₹ 3.75 Cr.', '₹ 55 L', '₹ 35.51 L', '₹ 50 L', '₹ 4 Cr.', '₹ 72 L', '₹ 2.49 Cr.', '₹ 3.6 Cr.', '₹ 44 L', '₹ 2.25 Cr.', '₹ 1.1 Cr.', '₹ 1.3 Cr.', '₹ 1.15 Cr.', '₹ 3.15 Cr.', '₹ 35 L', '₹ 27 L', '₹ 85 L', '₹ 25 L', '₹ 48.5 L', '₹ 3.95 Cr.', '₹ 95 L', '₹ 2.05 Cr.', '₹ 65 L', '₹ 98 L', '₹ 3.5 Cr.', '₹ 42 L', '₹ 1.7 Cr.', '₹ 4 Cr.', '₹ 5.5 Cr.', '₹ 25 L', '₹ 8 Cr.', '₹ 38 L', '₹ 40 L', '₹ 4 Cr.', '₹ 33.33 Cr.', '₹ 16 L', '₹ 3.05 Cr.', '₹ 28.00 L', '₹ 3.5 Cr.', '₹ 41 L', '₹ 39.5 L', '₹ 9 Cr.', 'Price on Request', '₹ 1.31 Cr.', '₹ 2.67 Cr.', '₹ 5.25 Cr.', '₹ 19.51 Cr.', '₹ 1.66 Cr.', '₹ 1.65 Cr.', '₹ 35 L', '₹ 2.45 Cr.', '₹ 8.5 Cr.', '₹ 68.5 L', '₹ 3.6 Cr.', '₹ 4 Cr.', '₹ 45 L', '₹ 78 L', '₹ 9 Cr.', '₹ 1.29 Cr.', '₹ 2.15 Cr.', '₹ 2.85 Cr.', 'Price on Request', '₹ 1.95 Cr.', '₹ 55 L', '₹ 2.9 Cr.', '₹ 33 L', '₹ 35 L', '₹ 45 L', '₹ 1.9 Cr.', '₹ 2.25 Cr.', '₹ 20 L', '₹ 25 L', '₹ 75 L', '₹ 1.62 Cr.', '₹ 1.45 Cr.', '₹ 2.1 Cr.', '₹ 2.1 Cr.', '₹ 28 L', '₹ 25 L', 'Price on Request', '₹ 13 Cr.', '₹ 2.8 Cr.', '₹ 3.5 Cr.', '₹ 35 L', '₹ 1.3 Cr.', '₹ 42 L', '₹ 8.8 Cr.', '₹ 1 Cr.', '₹ 9 Cr.', '₹ 3.7 Cr.', '₹ 8.9 Cr.', '₹ 48 L', '₹ 28 L', '₹ 2.85 Cr.', '₹ 92 L', '₹ 60 L', '₹ 4 Cr.', '₹ 85 L', '₹ 37.80 Cr.', 'Price on Request', '₹ 21.5 L', '₹ 9 Cr.', '₹ 8 Cr.', '₹ 24 L', '₹ 1.95 Cr.', '₹ 50 L', '₹ 50 L', '₹ 85 L', '₹ 3.9 Cr.', '₹ 3.7 Cr.', '₹ 65 L', '₹ 45 L', 'Price on Request', '₹ 2.08 Cr.', '₹ 5.5 Cr.', '₹ 18.25 L', '₹ 40 L', '₹ 1.15 Cr.', '₹ 38 L', '₹ 25 L', '₹ 1.15 Cr.', '₹ 85 L', '₹ 4 Cr.', '₹ 70 L', '₹ 40 L', '₹ 3.1 Cr.', '₹ 23.5 L', '₹ 13.65 L', '₹ 9 Cr.', '₹ 5.8 Cr.', '₹ 1.95 Cr.', '₹ 2.75 Cr.', '₹ 37.80 Cr.', '₹ 2.75 Cr.', '₹ 1.63 Cr.', '₹ 80 L', '₹ 48 L', '₹ 50 L', '₹ 19.8 L', '₹ 69 L', '₹ 2.1 Cr.', '₹ 60 L', '₹ 38 L', '₹ 52 L', '₹ 33 L', '₹ 1.17 Cr.', '₹ 4 Cr.', '₹ 2.65 Cr.', '₹ 2.85 Cr.', 'Price on Request', '₹ 45 L', '₹ 16 L', '₹ 49 L', '₹ 11 Cr.', '₹ 45 L', '₹ 2.1 Cr.', '₹ 20.51 L', '₹ 2.09 Cr.', '₹ 2.99 Cr.', '₹ 4 Cr.', '₹ 2.25 Cr.', '₹ 2.05 Cr.', 'Price on Request', '₹ 78 L', '₹ 55 L', '₹ 1.45 Cr.', '₹ 2.9 Cr.', '₹ 8.5 Cr.', '₹ 2.05 Cr.', '₹ 85 L', '₹ 33 L', '₹ 5 Cr.', '₹ 1.95 Cr.', '₹ 3.1 Cr.', '₹ 3.5 Cr.', '₹ 1.1 Cr.', '₹ 42 Cr.', '₹ 34 L', None, '₹ 1.21 Cr.', '₹ 89.00 L', '₹ 3.75 Cr.', '₹ 1.05 Cr.', '₹ 20 Cr.', '₹ 48.5 L', '₹ 1.23 Cr.', '₹ 45 L', '₹ 2.45 Cr.', '₹ 5.95 Cr.', '₹ 1 Cr.', '₹ 3.15 Cr.', '₹ 4.32 Cr.', '₹ 3.78 Cr.', '₹ 3.75 Cr.', '₹ 6.25 Cr.', '₹ 1 Cr.', '₹ 40 L', '₹ 14.25 L', '₹ 75 L', '₹ 11.65 L', '₹ 45 L', '₹ 22 L', '₹ 1.1 Cr.', '₹ 2 Cr.', '₹ 16.5 Cr.', '₹ 75 L', '₹ 5.56 Cr.', '₹ 80 L', '₹ 3.35 Cr.', '₹ 42 L', '₹ 89.00 L', '₹ 1.58 Cr.', '₹ 85 L', '₹ 7 Cr.', '₹ 42 L', '₹ 1.23 Cr.', '₹ 14.96 L', '₹ 48 L', '₹ 3 Cr.', '₹ 53 L', '₹ 35 L', '₹ 75 L', '₹ 40 L', '₹ 1.28 Cr.', '₹ 75 L', '₹ 4 Cr.', '₹ 4.5 Cr.', '₹ 3.78 Cr.', '₹ 7.8 Cr.', '₹ 1.6 Cr.', '₹ 2.5 Cr.', '₹ 92 L', None, '₹ 6.09 L', '₹ 4 Cr.', '₹ 33 L', '₹ 4.9 Cr.', '₹ 94 L', '₹ 11 L', 'Price on Request', '₹ 65.01 L', '₹ 4 Cr.', '₹ 78 L', 'Price on Request', '₹ 1.25 Cr.', '₹ 2.47 Cr.', '₹ 3.5 Cr.', '₹ 12.5 L', '₹ 10.25 L', '₹ 25 Cr.', '₹ 1.3 Cr.', '₹ 74.5 L', '₹ 2.45 Cr.', '₹ 1.1 Cr.', '₹ 65 L', 'Price on Request', '₹ 85 L', '₹ 2.45 Cr.', 'Price on Request', '₹ 2.31 Cr.', '₹ 65.01 L', '₹ 62 L', '₹ 2.5 Cr.', '₹ 1.61 Cr.', '₹ 1.5 Cr.', '₹ 8.75 L', '₹ 55 L', '₹ 4.69 Cr.', '₹ 65.01 L', '₹ 37.80 Cr.', '₹ 2.50 Cr.', '₹ 28 L', '₹ 56 L', '₹ 6.2 Cr.', '₹ 69.5 L', '₹ 1.25 Cr.', 'Price on Request', '₹ 52 L', '₹ 11 L', '₹ 2.82 Cr.', 'Price on Request', '₹ 29 L', 'Price on Request', '₹ 51 L', '₹ 80 L', 'Price on Request', '₹ 45 L', 'Price on Request', 'Price on Request', '₹ 1.15 Cr.', '₹ 18.51 L', '₹ 2.68 Cr.', '₹ 1.6 Cr.', '₹ 75 L', '₹ 8.50 Cr.', '₹ 1.7 Cr.', '₹ 2.5 Cr.', '₹ 33 L', '₹ 30 L', '₹ 45 L', '₹ 18 L', '₹ 8.50 Cr.', '₹ 1.15 Cr.', '₹ 1.45 Cr.', 'Price on Request', '₹ 2.3 Cr.', '₹ 2.1 Cr.', '₹ 90 L', '₹ 1.65 Cr.', '₹ 1.35 Cr.', '₹ 95 L', '₹ 65.01 L', '₹ 85 L', '₹ 35 L', 'Price on Request', '₹ 40 L', '₹ 76.5 L', '₹ 5.2 Cr.', '₹ 33 L', '₹ 3.05 Cr.', '₹ 1.65 Cr.', '₹ 33 L', '₹ 2.50 Cr.', '₹ 1.85 Cr.', '₹ 30.00 L', '₹ 50 L', '₹ 50 L', '₹ 12.25 L', 'Price on Request', '₹ 4 Cr.', '₹ 2.58 Cr.', '₹ 39.25 L', '₹ 7.5 Cr.', '₹ 60 L', '₹ 12.76 L', '₹ 95 L', '₹ 2.1 Cr.', '₹ 4.15 Cr.', '₹ 55 L', '₹ 21.00 L', '₹ 33 L', '₹ 8.50 Cr.', '₹ 57 L', '₹ 1.45 Cr.', '₹ 2.30 Cr.', '₹ 1.1 Cr.', '₹ 1.05 Cr.', '₹ 1.45 Cr.', '₹ 33 L', '₹ 40 L', '₹ 34 L', '₹ 12.8 Cr.', 'Price on Request', '₹ 2.65 Cr.', 'Price on Request', '₹ 1.8 Cr.', '₹ 45.00 L', '₹ 3.25 Cr.', '₹ 1.75 Cr.', '₹ 70 L', 'Price on Request', 'Price on Request', '₹ 20 L', '₹ 22.5 L', '₹ 52 L', '₹ 2.75 Cr.', 'Price on Request', '₹ 40 L', '₹ 1.98 Cr.', '₹ 40 L', '₹ 34.6 L', '₹ 1.59 Cr.', 'Price on Request', '₹ 1.6 Cr.', '₹ 8.25 L', '₹ 55 L', '₹ 2.30 Cr.', '₹ 2.78 Cr.', '₹ 3.3 Cr.', '₹ 34 L', '₹ 52 L', 'Price on Request', '₹ 4.25 Cr.', '₹ 4 Cr.', 'Price on Request', '₹ 22.00 L', '₹ 75 L', '₹ 65 L', '₹ 1.35 Cr.', '₹ 95 L', '₹ 4.25 Cr.', '₹ 1.2 Cr.', '₹ 70 L', '₹ 4.9 Cr.', '₹ 25 L', '₹ 75 L', '₹ 40 L', '₹ 1.23 Cr.', '₹ 35 L', '₹ 25 L', '₹ 1.65 Cr.', '₹ 18.5 L', '₹ 1.5 Cr.', '₹ 4.25 Cr.', '₹ 1.95 Cr.', '₹ 30.00 L', '₹ 2.30 Cr.', '₹ 42 L', '₹ 42 L', '₹ 5.3 Cr.', 'Price on Request', '₹ 2.1 Cr.', '₹ 2 Cr.', '₹ 45 L', '₹ 55 L', '₹ 1.2 Cr.', '₹ 41 L', '₹ 4.5 Cr.', '₹ 55 L', '₹ 32 L', '₹ 37.80 Cr.', '₹ 33.8 L', '₹ 35 L', '₹ 19.32 L', '₹ 1.02 Cr.', '₹ 4.5 Cr.', '₹ 4.25 Cr.', '₹ 75 L', 'Price on Request', '₹ 21 L', '₹ 90 L', '₹ 28 L', '₹ 5.25 Cr.', '₹ 4.5 Cr.', '₹ 3.25 Cr.', '₹ 33.5 L', '₹ 40 L', '₹ 4.25 Cr.', '₹ 32 L', '₹ 34.1 L', 'Price on Request', '₹ 33.75 L', '₹ 47 L', 'Price on Request', '₹ 4.5 Cr.', '₹ 27 L', '₹ 56 L', '₹ 4 Cr.', '₹ 85.5 L', '₹ 1.25 Cr.', '₹ 2.5 Cr.', '₹ 33 L', '₹ 1.25 Cr.', 'Price on Request', '₹ 2 Cr.', 'Price on Request', '₹ 48 Cr.', 'Price on Request', '₹ 82 L', 'Price on Request', '₹ 4 Cr.', '₹ 3.2 Cr.', '₹ 31 L', '₹ 1.1 Cr.', '₹ 1.55 Cr.', '₹ 18.48 L', '₹ 1.23 Cr.', '₹ 6.5 Cr.', '₹ 2 Cr.', '₹ 80 L', '₹ 1.5 Cr.', '₹ 65 L', '₹ 3.25 Cr.', '₹ 2.30 Cr.', '₹ 1.3 Cr.', '₹ 2 Cr.', '₹ 1.4 Cr.', '₹ 40 L', '₹ 19 L', '₹ 1.62 Cr.', '₹ 22 L', 'Price on Request', '₹ 2.1 Cr.', '₹ 36 L', '₹ 2.25 Cr.', '₹ 6 Cr.', '₹ 92 L', '₹ 64 Cr.', '₹ 35 L', '₹ 3.78 Cr.', '₹ 17 L', '₹ 35 Cr.', '₹ 3.7 Cr.', '₹ 50 L', '₹ 3.75 Cr.', '₹ 55 L', '₹ 32 L', '₹ 1.5 Cr.', '₹ 55 L', '₹ 25 L', '₹ 1.05 Cr.', '₹ 1.45 Cr.', '₹ 5.1 L', '₹ 80 L', '₹ 55 L', 'Price on Request', '₹ 78 L', '₹ 25.21 L', '₹ 16.5 L', '₹ 1.98 Cr.', '₹ 23 L', '₹ 8.5 Cr.', '₹ 85 L', 'Price on Request', '₹ 40 L', '₹ 2.15 Cr.', '₹ 70 L', '₹ 75 L', '₹ 2.45 Cr.', '₹ 45 L', '₹ 55 L', '₹ 3.25 Cr.', '₹ 45 L', '₹ 40 L', '₹ 6 Cr.', '₹ 1.9 Cr.', '₹ 49 L', '₹ 2.3 Cr.', '₹ 7.5 Cr.', 'Price on Request', '₹ 65 L', '₹ 25 L', '₹ 77 L', '₹ 40 L', '₹ 4.2 Cr.', '₹ 68 L', '₹ 55 L', '₹ 70 L', '₹ 7 Cr.', '₹ 2.55 Cr.', '₹ 2.85 Cr.', '₹ 1.35 Cr.', '₹ 7.5 Cr.', '₹ 2.30 Cr.', '₹ 130 Cr.', '₹ 45 L', '₹ 2.95 Cr.', '₹ 1.65 Cr.', '₹ 2.30 Cr.', '₹ 4.1 Cr.', '₹ 55 L', '₹ 40 L', '₹ 2.9 Cr.', '₹ 1.25 Cr.', '₹ 70 L', '₹ 53 L', '₹ 3.75 Cr.', '₹ 40 L', '₹ 1.65 Cr.', '₹ 26.15 L', '₹ 25 L', '₹ 5 Cr.', '₹ 85 L', '₹ 1.1 Cr.', '₹ 3.75 Cr.', '₹ 80 L', '₹ 2.86 Cr.', 'Price on Request', '₹ 1.7 Cr.', '₹ 25 L', '₹ 7.25 Cr.', '₹ 1.6 Cr.', '₹ 1.3 Cr.', '₹ 30.00 L', '₹ 60 L', '₹ 78 L', '₹ 1.35 Cr.', '₹ 1.95 Cr.', '₹ 75 L', '₹ 1.5 Cr.', '₹ 75 L', '₹ 1.1 Cr.', 'Price on Request', '₹ 1.05 Cr.', 'Price on Request', '₹ 65 L', '₹ 1.3 Cr.', 'Price on Request', '₹ 1.7 Cr.', '₹ 2.3 Cr.', '₹ 40 L', '₹ 26 L', '₹ 1.85 Cr.', 'Price on Request', '₹ 5.75 Cr.', '₹ 1.75 Cr.', '₹ 22 L', '₹ 30.85 L', '₹ 50 L', 'Price on Request', 'Price on Request', '₹ 50 L', '₹ 30 L', '₹ 1.25 Cr.', '₹ 3.25 Cr.', '₹ 2.88 Cr.', '₹ 120 Cr.', '₹ 1.35 Cr.', '₹ 23 L', '₹ 42 L', '₹ 55 L', '₹ 1 Cr.', '₹ 1.4 Cr.', '₹ 4 Cr.', '₹ 50 L', 'Price on Request', 'Price on Request', '₹ 46 L', '₹ 1.05 Cr.', '₹ 17.25 L', '₹ 55 L', '₹ 1.15 Cr.', '₹ 1.2 Cr.', '₹ 52 L', '₹ 1 Cr.', 'Price on Request', '₹ 2.85 Cr.', '₹ 35 L', '₹ 2 Cr.', '₹ 1 Cr.', '₹ 1.4 Cr.', '₹ 40 L', '₹ 26 L', '₹ 2.4 Cr.', '₹ 1.9 Cr.', '₹ 25 L', '₹ 2.72 Cr.', '₹ 3.15 Cr.', '₹ 1.9 Cr.', '₹ 60 L', '₹ 3.5 Cr.', '₹ 1.51 Cr.', '₹ 7 Cr.', '₹ 95 L', '₹ 42 L', '₹ 23 L', '₹ 35 L', '₹ 2.75 Cr.', '₹ 17 L', '₹ 70 L', '₹ 55 L', '₹ 6 Cr.', '₹ 13.75 L', '₹ 8.5 Cr.', '₹ 60 L', '₹ 1.6 Cr.', '₹ 80 L', '₹ 26 L', '₹ 1.9 Cr.', '₹ 32 L', 'Price on Request', '₹ 18 Cr.', '₹ 2.25 Cr.', 'Price on Request', 'Price on Request', '₹ 1.25 Cr.', '₹ 127.5 Cr.', '₹ 5.8 Cr.', '₹ 1.85 Cr.', '₹ 2.7 Cr.', '₹ 35 L', '₹ 1.35 Cr.', 'Price on Request', '₹ 28 L', 'Price on Request', '₹ 85 L', '₹ 1.1 Cr.', '₹ 1.9 Cr.', '₹ 1.14 Cr.', '₹ 3.5 Cr.', '₹ 90 L', 'Price on Request', '₹ 5 Cr.', 'Price on Request', '₹ 60 L', '₹ 26 L', 'Price on Request', 'Price on Request', '₹ 75 L', '₹ 25 L', '₹ 1.3 Cr.', '₹ 25 L', '₹ 2.21 Cr.', '₹ 40 L', '₹ 22.00 L', '₹ 2.25 Cr.', '₹ 90 L', '₹ 35 L', '₹ 75 L', 'Price on Request', '₹ 19 L', '₹ 14.8 Cr.', '₹ 28 L', '₹ 80 L', '₹ 3.2 Cr.', '₹ 1.6 Cr.', '₹ 90 L', '₹ 33 L', '₹ 15.5 L', '₹ 2.45 Cr.', '₹ 62 L', '₹ 1.9 Cr.', '₹ 20.5 L', '₹ 75 L', '₹ 50 L', '₹ 22.00 L', '₹ 55 L', '₹ 1.48 Cr.', 'Price on Request', '₹ 20 Cr.', '₹ 80 L', '₹ 45 L', '₹ 95 L', '₹ 99 L', '₹ 30 L', '₹ 8.5 Cr.', '₹ 56 L', '₹ 1.08 Cr.', '₹ 3.75 Cr.', '₹ 1.21 Cr.', '₹ 45 L', '₹ 26 L', '₹ 16 L', '₹ 2.1 Cr.', '₹ 1.05 Cr.', '₹ 2.30 Cr.', '₹ 2.7 Cr.', '₹ 23 L', '₹ 56 L', '₹ 95 L', '₹ 40 L', '₹ 25 L', '₹ 3.53 Cr.', '₹ 2 Cr.', '₹ 65 L', '₹ 1.65 Cr.', '₹ 45 L', '₹ 1.35 Cr.', '₹ 1.25 Cr.', '₹ 1.15 Cr.', '₹ 28 L', '₹ 16 L', '₹ 16 L', '₹ 40 L', '₹ 40 L', '₹ 1.25 Cr.', '₹ 31 L', '₹ 2.30 Cr.', '₹ 23 L', '₹ 28 L', '₹ 40 L', '₹ 2.4 Cr.', '₹ 2.35 Cr.', '₹ 4.75 Cr.', '₹ 1.25 Cr.', '₹ 8 Cr.', '₹ 70 L', '₹ 25 L', 'Price on Request', '₹ 35 L', '₹ 23 L', '₹ 21 L', '₹ 69 L', '₹ 99 L', '₹ 50 L', '₹ 2.5 Cr.', '₹ 1.8 Cr.', '₹ 29 Cr.', '₹ 2.3 Cr.', '₹ 8.3 Cr.', '₹ 24 L', '₹ 1.2 Cr.', '₹ 42 L', 'Price on Request', '₹ 2.3 Cr.', '₹ 2 Cr.', '₹ 32.5 L', '₹ 4.2 Cr.', '₹ 25 L', '₹ 65 L', '₹ 15.5 L', '₹ 24 Cr.', 'Price on Request', '₹ 1.5 Cr.', '₹ 45.6 L', '₹ 45 L', '₹ 30 L', '₹ 1.5 Cr.', None, '₹ 29 Cr.', '₹ 1.19 Cr.', '₹ 24.99 L', '₹ 2.09 Cr.', '₹ 85 L', '₹ 1.2 Cr.', '₹ 42 L', '₹ 30.00 L', '₹ 25 L', '₹ 95 L', '₹ 25 L', '₹ 2.7 Cr.', 'Price on Request', '₹ 1 Cr.', '₹ 50 L', '₹ 5.99 Cr.', '₹ 85 L', '₹ 1.65 Cr.', '₹ 1.25 Cr.', '₹ 38 L', '₹ 84 L', '₹ 50 L', '₹ 80 L', '₹ 95 L', '₹ 25 L', '₹ 15 L', '₹ 2 Cr.', '₹ 42 Cr.', '₹ 5.8 Cr.', '₹ 40 L', '₹ 80 L', 'Price on Request', '₹ 69 Cr.', 'Price on Request', '₹ 19 L', '₹ 1.2 Cr.', '₹ 85 L', '₹ 25 L', '₹ 95 L', '₹ 7.5 Cr.', '₹ 27 L', '₹ 4.5 Cr.', '₹ 79 L', '₹ 10 Cr.', '₹ 15 Cr.', '₹ 85 L', '₹ 23 L', '₹ 52 L', '₹ 15.5 L', '₹ 1.65 Cr.', '₹ 46 L', '₹ 2 Cr.', '₹ 12 Cr.', '₹ 1.6 Cr.', '₹ 65.08 L', 'Price on Request', 'Price on Request', '₹ 90 L', '₹ 90 L', 'Price on Request', '₹ 35 L', '₹ 60 L', '₹ 17.5 L', '₹ 1.1 Cr.', '₹ 55 L', '₹ 65 L', '₹ 58 L', '₹ 8.2 Cr.', '₹ 60 L', 'Price on Request', '₹ 3 Cr.', '₹ 1 Cr.', '₹ 55 L', '₹ 26.85 L', '₹ 1.15 Cr.', '₹ 16.58 L', '₹ 62 L', '₹ 20 L', '₹ 4.5 Cr.', 'Price on Request', '₹ 55 L', '₹ 30 Cr.', '₹ 24 L', '₹ 55 L', '₹ 10 Cr.', '₹ 55 L', '₹ 10 Cr.', '₹ 3.35 Cr.', '₹ 16 L', 'Price on Request', '₹ 38 L', '₹ 14 L', '₹ 85 L', '₹ 15 L', '₹ 6 Cr.', '₹ 32 Cr.', '₹ 1.25 Cr.', '₹ 60 Cr.', 'Price on Request', '₹ 7 Cr.', '₹ 36 L', '₹ 3.6 Cr.', 'Price on Request', '₹ 43 L', '₹ 2.39 Cr.', '₹ 14 L', '₹ 42 L', '₹ 1.99 Cr.', '₹ 7.5 L', '₹ 22 Cr.', '₹ 61 L', '₹ 21 Cr.', 'Price on Request', '₹ 3.5 Cr.', '₹ 2.6 Cr.', '₹ 21 Cr.', 'Price on Request', '₹ 1.78 Cr.', '₹ 1.15 Cr.', '₹ 33 L', '₹ 36 Cr.', '₹ 1 Cr.', '₹ 40 L', '₹ 25 L', 'Price on Request', '₹ 28 L', '₹ 80 Cr.', '₹ 80 L', '₹ 2.7 Cr.', '₹ 80 L', '₹ 5.25 Cr.', '₹ 1.65 Cr.', 'Price on Request', '₹ 23 L', '₹ 3.25 Cr.', '₹ 45 L', 'Price on Request', '₹ 35 L', '₹ 99 L', '₹ 50 L', '₹ 42 L', '₹ 1.4 Cr.', '₹ 100 Cr.', '₹ 1.75 Cr.', '₹ 22 Cr.', 'Price on Request', '₹ 1.05 Cr.', '₹ 95 L', 'Price on Request', '₹ 30 L', '₹ 82.5 L', '₹ 50 L', '₹ 33 L', '₹ 8.45 L', '₹ 75 L', '₹ 2.5 Cr.', '₹ 80 L', '₹ 4.9 Cr.', '₹ 2.6 Cr.', '₹ 30 L', '₹ 42 Cr.', '₹ 10.86 L', '₹ 14 Cr.', '₹ 1.25 Cr.', '₹ 43 L', '₹ 80 L', '₹ 20 Cr.', '₹ 78 L', '₹ 1.6 Cr.', '₹ 70 L', '₹ 20 L', '₹ 31 Cr.', '₹ 32 L', '₹ 49 L', '₹ 60 L', '₹ 25 L', '₹ 32 L', '₹ 35 L', '₹ 1.2 Cr.', '₹ 21 Cr.', '₹ 1.95 Cr.', '₹ 78 L', '₹ 6.65 Cr.', '₹ 35 L', '₹ 3.25 Cr.', '₹ 1.6 Cr.', '₹ 3 Cr.', '₹ 13 L', '₹ 6.15 Cr.', '₹ 95 L', '₹ 26 L', '₹ 75 L', '₹ 42 Cr.', '₹ 60 L', '₹ 65 L', '₹ 47 L', '₹ 25 L', '₹ 15.5 Cr.', '₹ 3.25 Cr.', '₹ 3.6 Cr.', '₹ 26 Cr.', '₹ 95 L', '₹ 1.12 Cr.', '₹ 25 L', '₹ 45 L', '₹ 55 L', '₹ 85 L', '₹ 128 Cr.', '₹ 1.6 Cr.', '₹ 85 L', '₹ 36 L', '₹ 425 Cr.', '₹ 45 L', '₹ 68 L', '₹ 5.25 Cr.', '₹ 3 Cr.', '₹ 1.5 Cr.', '₹ 3.2 Cr.', '₹ 75 L', '₹ 35 L', '₹ 36 L', '₹ 1.2 Cr.', '₹ 2.55 Cr.', '₹ 25 L', '₹ 65.5 L', '₹ 2.45 Cr.', '₹ 2.55 Cr.', '₹ 2.58 Cr.', '₹ 1.97 Cr.', '₹ 2.99 Cr.', '₹ 3.15 Cr.', '₹ 80 L', '₹ 32.2 L', '₹ 35 L', '₹ 2.4 Cr.', '₹ 2.25 Cr.', '₹ 45 L', '₹ 2.3 Cr.', '₹ 32 L', '₹ 55 L', '₹ 45 L', '₹ 77 L', '₹ 70 L', '₹ 70 L', '₹ 24 L', '₹ 75 L', '₹ 1.55 Cr.', '₹ 2.6 Cr.', '₹ 45 L', '₹ 2.35 Cr.', '₹ 2.35 Cr.', '₹ 2.35 Cr.', '₹ 78 L', '₹ 80 L', '₹ 2.35 Cr.', '₹ 6.5 Cr.', '₹ 3.21 Cr.', '₹ 1.25 Cr.', '₹ 27 L', '₹ 80 L', '₹ 34 L', '₹ 2.05 Cr.', '₹ 2.15 Cr.', '₹ 2.94 Cr.', '₹ 2.5 Cr.', '₹ 85 L', '₹ 70 L', '₹ 45 L', '₹ 34 L', '₹ 2.6 Cr.', '₹ 3.2 Cr.', '₹ 80 L', '₹ 2.3 Cr.', '₹ 1.5 Cr.', '₹ 2.45 Cr.', '₹ 13.5 Cr.', 'Price on Request', '₹ 5.75 Cr.', '₹ 14 L', '₹ 2.1 Cr.', '₹ 2.38 Cr.', '₹ 34 L', '₹ 65 L', '₹ 3.2 Cr.', '₹ 18.5 L', '₹ 3.55 Cr.', '₹ 65 L', '₹ 45 L', '₹ 2.55 Cr.', '₹ 2.25 Cr.', '₹ 85 L', '₹ 2.2 Cr.', '₹ 75 L', '₹ 50 L', '₹ 94 L', '₹ 1.51 Cr.', '₹ 2.45 Cr.', '₹ 65 L', '₹ 1.35 Cr.', '₹ 25 L', '₹ 75 L', '₹ 3.1 Cr.', '₹ 18 L', '₹ 2.9 Cr.', '₹ 85 L', '₹ 65 L', '₹ 77 L', '₹ 1.45 Cr.', '₹ 23.5 L', '₹ 2.7 Cr.', '₹ 2.8 Cr.', '₹ 47.5 L', '₹ 2.32 Cr.', '₹ 85 L', '₹ 1.5 Cr.', '₹ 2.38 Cr.', '₹ 3.75 Cr.', '₹ 33 L', '₹ 45 L', '₹ 4.3 Cr.', '₹ 3.21 Cr.', '₹ 42 L', '₹ 4.24 Cr.', '₹ 1.2 Cr.', '₹ 82 L', '₹ 80 L', '₹ 60 L', '₹ 80 L', '₹ 42 L', '₹ 3 Cr.', '₹ 80 L', '₹ 90 L', '₹ 47 L', '₹ 45 L', '₹ 35 L', '₹ 45 L', '₹ 2.25 Cr.', '₹ 3 Cr.', '₹ 2 Cr.', '₹ 17 L', '₹ 2.47 Cr.', '₹ 24 L', '₹ 3.88 Cr.', '₹ 3.25 Cr.', '₹ 2.9 Cr.', '₹ 1.1 Cr.', '₹ 84.7 L', '₹ 2.35 Cr.', '₹ 49 L', '₹ 3.9 Cr.', '₹ 82 L', '₹ 40 L', '₹ 60 L', '₹ 4 Cr.', '₹ 1.98 Cr.', '₹ 3.35 Cr.', '₹ 35 L', '₹ 62 L', '₹ 65 L', '₹ 95 L', '₹ 50 L', '₹ 62 L', '₹ 50 L', '₹ 32 L', '₹ 2.35 Cr.', '₹ 75 L', '₹ 1.25 Cr.', '₹ 6.5 Cr.', '₹ 6.25 Cr.', '₹ 3.3 Cr.', 'Price on Request', '₹ 85 L', '₹ 92 L', '₹ 70 L', '₹ 75 L', '₹ 1.65 Cr.', '₹ 39.9 L', '₹ 1.5 Cr.', '₹ 3.4 Cr.', '₹ 9 Cr.', '₹ 2.7 Cr.', '₹ 3 Cr.', '₹ 1.55 Cr.', '₹ 94.5 L', '₹ 1.75 Cr.', '₹ 70 L', '₹ 50 L', '₹ 43 L', '₹ 16 L', '₹ 59 L', '₹ 5 Cr.', '₹ 2.3 Cr.', '₹ 85 L', '₹ 14.75 Cr.', '₹ 80 L', 'Price on Request', '₹ 2.75 Cr.', '₹ 90 L', '₹ 85 L', '₹ 80 L', '₹ 5.25 Cr.', '₹ 34 L', '₹ 55 L', '₹ 70 L', '₹ 4.25 Cr.', '₹ 6.5 Cr.', '₹ 2.8 Cr.', '₹ 2.28 Cr.', '₹ 28 L', '₹ 7 Cr.', '₹ 2.6 Cr.', '₹ 2.95 Cr.', '₹ 46 L', '₹ 2 Cr.', '₹ 3.03 Cr.', '₹ 22 L', '₹ 26 L', 'Price on Request', '₹ 32 L', '₹ 3.65 Cr.', '₹ 28 L', '₹ 1.25 Cr.', '₹ 3.9 Cr.', '₹ 1.2 Cr.', '₹ 30 L', '₹ 80 L', '₹ 45 L', '₹ 3 Cr.', '₹ 21 L', '₹ 35 L', '₹ 2.3 Cr.', '₹ 11.75 Cr.', '₹ 9.75 Cr.', '₹ 44 L', '₹ 16 Cr.', '₹ 11.15 Cr.', '₹ 72 L', '₹ 40 L', '₹ 1.5 Cr.', '₹ 3.9 Cr.', '₹ 1.2 Cr.', '₹ 95 L', '₹ 2.38 Cr.', '₹ 59 L', '₹ 35 L', '₹ 2.06 Cr.', '₹ 90 L', '₹ 3.55 Cr.', '₹ 2.5 Cr.', '₹ 59.25 L', '₹ 2.05 Cr.', '₹ 2.35 Cr.', '₹ 2.55 Cr.', '₹ 2.78 Cr.', '₹ 2.48 Cr.', '₹ 60 L', '₹ 70 L', '₹ 82 L', '₹ 2.29 Cr.', '₹ 18 L', '₹ 90 L', '₹ 21.5 L', '₹ 16.25 Cr.', '₹ 70 L', '₹ 24 L', '₹ 43 L', '₹ 72 L', '₹ 70 L', '₹ 75 L', '₹ 2.08 Cr.', 'Price on Request', '₹ 80 L', '₹ 1.6 Cr.', '₹ 42 L', '₹ 70 L', '₹ 2.42 Cr.', '₹ 80 L', '₹ 1.3 Cr.', '₹ 2.8 Cr.', '₹ 70 L', '₹ 80 L', '₹ 40 L', '₹ 45 L', '₹ 75 L', '₹ 1.25 Cr.', '₹ 59 L', '₹ 60 L', '₹ 23 L', '₹ 56 L', '₹ 22 L', '₹ 1.85 Cr.', '₹ 48 L', '₹ 2.65 Cr.', '₹ 3.5 Cr.', '₹ 1 Cr.', '₹ 2.68 Cr.', '₹ 2.65 Cr.', '₹ 36 L', '₹ 90 L', '₹ 70 L', '₹ 80 L', '₹ 32 L', '₹ 95 L']\n"
     ]
    }
   ],
   "source": [
    "print(price)"
   ]
  },
  {
   "cell_type": "code",
   "execution_count": 170,
   "id": "61e04c47-389a-4f68-a7e4-41215ed0aea6",
   "metadata": {},
   "outputs": [
    {
     "data": {
      "text/plain": [
       "'Property Information\\nListing Type\\nSale\\nProperty Type\\nResidential\\nBuilding Type\\nBuilder Floor\\nCity\\nDelhi\\nLocality\\nMahavir Enclave\\nArea\\n600 Sq.Ft. (Built-up Area)\\nPrice\\n32 L\\nPossession Status\\nReady To Move\\nFurnishing Status\\nSemi-Furnished\\nAge of Property (Years)\\n0-1\\nNumber of Rooms\\n2\\nNumber of Bathroom\\n2\\nCovered Parking\\n1\\nOpen/Uncovered Parking\\n1\\nBalcony\\nIndividual,Room-attached\\nPower Back-up\\nAvailable\\nWater Source\\nMunicipal Supply, Borewell/ Underground\\nLift Availability\\nYes\\nFacing\\nSouth East\\nView\\nRoad View\\nFlooring\\nMarble\\nFloor Number\\n1\\nTotal Floor Count\\n4\\nUnit No\\n1'"
      ]
     },
     "execution_count": 170,
     "metadata": {},
     "output_type": "execute_result"
    }
   ],
   "source": [
    "project_info_text[-2]"
   ]
  },
  {
   "cell_type": "code",
   "execution_count": 171,
   "id": "79d2b044-9dfc-4606-acf3-19e4bafbe132",
   "metadata": {},
   "outputs": [
    {
     "data": {
      "text/plain": [
       "'1 Fan, 1 Exhaust Fan, 1 Geyser, 1 Light, 1 Modular Kitchen, 1 Chimney'"
      ]
     },
     "execution_count": 171,
     "metadata": {},
     "output_type": "execute_result"
    }
   ],
   "source": [
    "amenities[-1]"
   ]
  },
  {
   "cell_type": "code",
   "execution_count": 174,
   "id": "810dc979-652a-4b12-b5de-e7fc9aeacd1b",
   "metadata": {},
   "outputs": [],
   "source": [
    "# amenities"
   ]
  },
  {
   "cell_type": "code",
   "execution_count": 175,
   "id": "eaf06272-1896-41d2-9b5d-7fb7e18aba5b",
   "metadata": {},
   "outputs": [],
   "source": [
    "df= pd.DataFrame( { \"Price\":price,\"aminities\":amenities, \"info\":project_info_text } )\n"
   ]
  },
  {
   "cell_type": "code",
   "execution_count": 176,
   "id": "59de8834-5694-4995-b41a-1e58189dd0b3",
   "metadata": {},
   "outputs": [
    {
     "data": {
      "text/html": [
       "<div>\n",
       "<style scoped>\n",
       "    .dataframe tbody tr th:only-of-type {\n",
       "        vertical-align: middle;\n",
       "    }\n",
       "\n",
       "    .dataframe tbody tr th {\n",
       "        vertical-align: top;\n",
       "    }\n",
       "\n",
       "    .dataframe thead th {\n",
       "        text-align: right;\n",
       "    }\n",
       "</style>\n",
       "<table border=\"1\" class=\"dataframe\">\n",
       "  <thead>\n",
       "    <tr style=\"text-align: right;\">\n",
       "      <th></th>\n",
       "      <th>Price</th>\n",
       "      <th>aminities</th>\n",
       "      <th>info</th>\n",
       "    </tr>\n",
       "  </thead>\n",
       "  <tbody>\n",
       "    <tr>\n",
       "      <th>0</th>\n",
       "      <td>₹ 82 L</td>\n",
       "      <td>5 Fan, 20 Light, 1 Modular Kitchen, 1 Chimney,...</td>\n",
       "      <td>Property Information\\nListing Type\\nSale\\nProp...</td>\n",
       "    </tr>\n",
       "    <tr>\n",
       "      <th>1</th>\n",
       "      <td>₹ 14 L</td>\n",
       "      <td>Badminton Court(s), Power Backup, Central AC, ...</td>\n",
       "      <td>None</td>\n",
       "    </tr>\n",
       "    <tr>\n",
       "      <th>2</th>\n",
       "      <td>₹ 50 L</td>\n",
       "      <td>1 Fan, 1 Exhaust Fan, 1 Geyser, 1 Modular Kitc...</td>\n",
       "      <td>Property Information\\nListing Type\\nSale\\nProp...</td>\n",
       "    </tr>\n",
       "    <tr>\n",
       "      <th>3</th>\n",
       "      <td>₹ 75 L</td>\n",
       "      <td>1 Fan, 1 Exhaust Fan, 1 Geyser, 1 Light, 1 Mod...</td>\n",
       "      <td>Property Information\\nListing Type\\nSale\\nProp...</td>\n",
       "    </tr>\n",
       "    <tr>\n",
       "      <th>4</th>\n",
       "      <td>₹ 33.5 L</td>\n",
       "      <td>1 Water Purifier, 1 Fan, 1 Exhaust Fan, 1 Light</td>\n",
       "      <td>Property Information\\nListing Type\\nSale\\nProp...</td>\n",
       "    </tr>\n",
       "    <tr>\n",
       "      <th>...</th>\n",
       "      <td>...</td>\n",
       "      <td>...</td>\n",
       "      <td>...</td>\n",
       "    </tr>\n",
       "    <tr>\n",
       "      <th>1623</th>\n",
       "      <td>₹ 90 L</td>\n",
       "      <td>1 Fan, 1 Exhaust Fan, 1 Geyser, 1 Light, 1 Mod...</td>\n",
       "      <td>Property Information\\nListing Type\\nSale\\nProp...</td>\n",
       "    </tr>\n",
       "    <tr>\n",
       "      <th>1624</th>\n",
       "      <td>₹ 70 L</td>\n",
       "      <td>1 Water Purifier, 1 Fan, 1 Exhaust Fan, 1 Geys...</td>\n",
       "      <td>Property Information\\nListing Type\\nSale\\nProp...</td>\n",
       "    </tr>\n",
       "    <tr>\n",
       "      <th>1625</th>\n",
       "      <td>₹ 80 L</td>\n",
       "      <td>1 Water Purifier, 5 Fan, 2 Exhaust Fan, 2 Geys...</td>\n",
       "      <td>Property Information\\nListing Type\\nSale\\nProp...</td>\n",
       "    </tr>\n",
       "    <tr>\n",
       "      <th>1626</th>\n",
       "      <td>₹ 32 L</td>\n",
       "      <td>1 Water Purifier, 4 Fan, 2 Exhaust Fan, 2 Geys...</td>\n",
       "      <td>Property Information\\nListing Type\\nSale\\nProp...</td>\n",
       "    </tr>\n",
       "    <tr>\n",
       "      <th>1627</th>\n",
       "      <td>₹ 95 L</td>\n",
       "      <td>1 Fan, 1 Exhaust Fan, 1 Geyser, 1 Light, 1 Mod...</td>\n",
       "      <td>Property Information\\nListing Type\\nSale\\nProp...</td>\n",
       "    </tr>\n",
       "  </tbody>\n",
       "</table>\n",
       "<p>1628 rows × 3 columns</p>\n",
       "</div>"
      ],
      "text/plain": [
       "         Price                                          aminities  \\\n",
       "0       ₹ 82 L  5 Fan, 20 Light, 1 Modular Kitchen, 1 Chimney,...   \n",
       "1       ₹ 14 L  Badminton Court(s), Power Backup, Central AC, ...   \n",
       "2       ₹ 50 L  1 Fan, 1 Exhaust Fan, 1 Geyser, 1 Modular Kitc...   \n",
       "3       ₹ 75 L  1 Fan, 1 Exhaust Fan, 1 Geyser, 1 Light, 1 Mod...   \n",
       "4     ₹ 33.5 L    1 Water Purifier, 1 Fan, 1 Exhaust Fan, 1 Light   \n",
       "...        ...                                                ...   \n",
       "1623    ₹ 90 L  1 Fan, 1 Exhaust Fan, 1 Geyser, 1 Light, 1 Mod...   \n",
       "1624    ₹ 70 L  1 Water Purifier, 1 Fan, 1 Exhaust Fan, 1 Geys...   \n",
       "1625    ₹ 80 L  1 Water Purifier, 5 Fan, 2 Exhaust Fan, 2 Geys...   \n",
       "1626    ₹ 32 L  1 Water Purifier, 4 Fan, 2 Exhaust Fan, 2 Geys...   \n",
       "1627    ₹ 95 L  1 Fan, 1 Exhaust Fan, 1 Geyser, 1 Light, 1 Mod...   \n",
       "\n",
       "                                                   info  \n",
       "0     Property Information\\nListing Type\\nSale\\nProp...  \n",
       "1                                                  None  \n",
       "2     Property Information\\nListing Type\\nSale\\nProp...  \n",
       "3     Property Information\\nListing Type\\nSale\\nProp...  \n",
       "4     Property Information\\nListing Type\\nSale\\nProp...  \n",
       "...                                                 ...  \n",
       "1623  Property Information\\nListing Type\\nSale\\nProp...  \n",
       "1624  Property Information\\nListing Type\\nSale\\nProp...  \n",
       "1625  Property Information\\nListing Type\\nSale\\nProp...  \n",
       "1626  Property Information\\nListing Type\\nSale\\nProp...  \n",
       "1627  Property Information\\nListing Type\\nSale\\nProp...  \n",
       "\n",
       "[1628 rows x 3 columns]"
      ]
     },
     "execution_count": 176,
     "metadata": {},
     "output_type": "execute_result"
    }
   ],
   "source": [
    "df"
   ]
  },
  {
   "cell_type": "code",
   "execution_count": 177,
   "id": "42f6835e-5ffd-4184-b6f8-830cae6d2bf3",
   "metadata": {},
   "outputs": [],
   "source": [
    "df.to_csv(\"squasred_delhi1.csv\")"
   ]
  },
  {
   "cell_type": "code",
   "execution_count": null,
   "id": "ddfa834a-81d1-49df-92e9-916d58a1ca13",
   "metadata": {},
   "outputs": [],
   "source": []
  },
  {
   "cell_type": "code",
   "execution_count": null,
   "id": "918026a7-1e6c-4b97-b94f-c4661a1dd9ab",
   "metadata": {},
   "outputs": [],
   "source": []
  },
  {
   "cell_type": "code",
   "execution_count": null,
   "id": "7445193c-ecc4-431e-a810-b69c130e5382",
   "metadata": {},
   "outputs": [],
   "source": []
  },
  {
   "cell_type": "code",
   "execution_count": null,
   "id": "175263a8-fe3d-4d90-84de-5c7a08af325d",
   "metadata": {},
   "outputs": [],
   "source": []
  },
  {
   "cell_type": "code",
   "execution_count": null,
   "id": "8cc8f5b2-2812-411e-ae9a-95646b7df67c",
   "metadata": {},
   "outputs": [],
   "source": []
  },
  {
   "cell_type": "code",
   "execution_count": null,
   "id": "b41e3589-4d85-4355-8628-05310c6e6f44",
   "metadata": {},
   "outputs": [],
   "source": []
  },
  {
   "cell_type": "code",
   "execution_count": 18,
   "id": "534ba815-0748-43ed-a239-f1e96032ed9c",
   "metadata": {},
   "outputs": [
    {
     "name": "stdout",
     "output_type": "stream",
     "text": [
      "25\n"
     ]
    },
    {
     "ename": "NameError",
     "evalue": "name 'name' is not defined",
     "output_type": "error",
     "traceback": [
      "\u001b[1;31m---------------------------------------------------------------------------\u001b[0m",
      "\u001b[1;31mNameError\u001b[0m                                 Traceback (most recent call last)",
      "Cell \u001b[1;32mIn[18], line 17\u001b[0m\n\u001b[0;32m     16\u001b[0m \u001b[38;5;28;01mtry\u001b[39;00m:\n\u001b[1;32m---> 17\u001b[0m     \u001b[43mname\u001b[49m\u001b[38;5;241m.\u001b[39mappend(driver\u001b[38;5;241m.\u001b[39mfind_element(By\u001b[38;5;241m.\u001b[39mXPATH, \u001b[38;5;124mf\u001b[39m\u001b[38;5;124m\"\u001b[39m\u001b[38;5;124m/html/body/div[1]/div/div/div[4]/div[3]/div[2]/section[\u001b[39m\u001b[38;5;132;01m{\u001b[39;00mj\u001b[38;5;132;01m}\u001b[39;00m\u001b[38;5;124m]/div/div/div[1]/div[2]/div/div[1]/div/div[1]/a\u001b[39m\u001b[38;5;124m\"\u001b[39m)\u001b[38;5;241m.\u001b[39mtext)\n\u001b[0;32m     18\u001b[0m \u001b[38;5;28;01mexcept\u001b[39;00m:\n",
      "\u001b[1;31mNameError\u001b[0m: name 'name' is not defined",
      "\nDuring handling of the above exception, another exception occurred:\n",
      "\u001b[1;31mNameError\u001b[0m                                 Traceback (most recent call last)",
      "Cell \u001b[1;32mIn[18], line 19\u001b[0m\n\u001b[0;32m     17\u001b[0m     name\u001b[38;5;241m.\u001b[39mappend(driver\u001b[38;5;241m.\u001b[39mfind_element(By\u001b[38;5;241m.\u001b[39mXPATH, \u001b[38;5;124mf\u001b[39m\u001b[38;5;124m\"\u001b[39m\u001b[38;5;124m/html/body/div[1]/div/div/div[4]/div[3]/div[2]/section[\u001b[39m\u001b[38;5;132;01m{\u001b[39;00mj\u001b[38;5;132;01m}\u001b[39;00m\u001b[38;5;124m]/div/div/div[1]/div[2]/div/div[1]/div/div[1]/a\u001b[39m\u001b[38;5;124m\"\u001b[39m)\u001b[38;5;241m.\u001b[39mtext)\n\u001b[0;32m     18\u001b[0m \u001b[38;5;28;01mexcept\u001b[39;00m:\n\u001b[1;32m---> 19\u001b[0m     \u001b[43mname\u001b[49m\u001b[38;5;241m.\u001b[39mappend(\u001b[38;5;28;01mNone\u001b[39;00m)\n\u001b[0;32m     20\u001b[0m \u001b[38;5;28;01mtry\u001b[39;00m:\n\u001b[0;32m     21\u001b[0m     room_type\u001b[38;5;241m.\u001b[39mappend(driver\u001b[38;5;241m.\u001b[39mfind_element(By\u001b[38;5;241m.\u001b[39mXPATH, \u001b[38;5;124mf\u001b[39m\u001b[38;5;124m\"\u001b[39m\u001b[38;5;124m/html/body/div[1]/div/div/div[4]/div[3]/div[2]/section[\u001b[39m\u001b[38;5;132;01m{\u001b[39;00mj\u001b[38;5;132;01m}\u001b[39;00m\u001b[38;5;124m]/div/div/div[1]/div[2]/div/div[1]/h2/span[1]\u001b[39m\u001b[38;5;124m\"\u001b[39m)\u001b[38;5;241m.\u001b[39mtext)\n",
      "\u001b[1;31mNameError\u001b[0m: name 'name' is not defined"
     ]
    }
   ],
   "source": [
    "\n",
    "\n",
    "for i in range(3, 6):\n",
    "    # Navigate to the new page\n",
    "    driver.get(f\"https://www.99acres.com/property-in-chennai-ffid-page-{i}\")\n",
    "    time.sleep(np.random.randint(2, 4))  \n",
    "    \n",
    "    scroll_attempts = 5\n",
    "    for _ in range(scroll_attempts):\n",
    "        driver.execute_script(\"window.scrollTo(0, document.body.scrollHeight);\")\n",
    "        time.sleep(np.random.randint(1, 3)) \n",
    "\n",
    "    c = driver.find_elements(By.XPATH, \"/html/body/div[1]/div/div/div[4]/div[3]/div[2]/section\")\n",
    "    print(len(c))\n",
    "\n",
    "    for j in range(2, len(c), 2):\n",
    "        time.sleep(1)\n",
    "        try:\n",
    "            name.append(driver.find_element(By.XPATH, f\"/html/body/div[1]/div/div/div[4]/div[3]/div[2]/section[{j}]/div/div/div[1]/div[2]/div/div[1]/div/div[1]/a\").text)\n",
    "        except:\n",
    "            name.append(None)\n",
    "        try:\n",
    "            room_type.append(driver.find_element(By.XPATH, f\"/html/body/div[1]/div/div/div[4]/div[3]/div[2]/section[{j}]/div/div/div[1]/div[2]/div/div[1]/h2/span[1]\").text)\n",
    "        except:\n",
    "            room_type.append(None)\n",
    "        \n",
    "        try:\n",
    "            room1.append(driver.find_element(By.XPATH, f\"/html/body/div[1]/div/div/div[4]/div[3]/div[2]/section[{j}]/div/div/div[1]/div[2]/div/div[2]/div/div/div/div/div[1]\").text)\n",
    "        except:\n",
    "            room1.append(None)\n",
    "\n",
    "    time.sleep(np.random.randint(2, 4))  \n"
   ]
  },
  {
   "cell_type": "code",
   "execution_count": null,
   "id": "73a09845-1d4f-43f6-b165-86b86a1aa78f",
   "metadata": {},
   "outputs": [],
   "source": []
  },
  {
   "cell_type": "code",
   "execution_count": null,
   "id": "ca46e64f-d858-47c0-9399-640b34743538",
   "metadata": {},
   "outputs": [],
   "source": []
  },
  {
   "cell_type": "code",
   "execution_count": null,
   "id": "8d5a21ba-525c-4909-86b0-64e5d2d4da1d",
   "metadata": {},
   "outputs": [],
   "source": []
  },
  {
   "cell_type": "code",
   "execution_count": null,
   "id": "242798c7-2f98-486e-b8c9-527bc5a38149",
   "metadata": {},
   "outputs": [],
   "source": []
  },
  {
   "cell_type": "code",
   "execution_count": null,
   "id": "95c5943b-25df-48cf-be6a-9f7eaf13ca03",
   "metadata": {},
   "outputs": [],
   "source": []
  },
  {
   "cell_type": "code",
   "execution_count": null,
   "id": "d60a210a-8803-455b-aea7-d173625dce31",
   "metadata": {},
   "outputs": [],
   "source": []
  }
 ],
 "metadata": {
  "kernelspec": {
   "display_name": "Python 3 (ipykernel)",
   "language": "python",
   "name": "python3"
  },
  "language_info": {
   "codemirror_mode": {
    "name": "ipython",
    "version": 3
   },
   "file_extension": ".py",
   "mimetype": "text/x-python",
   "name": "python",
   "nbconvert_exporter": "python",
   "pygments_lexer": "ipython3",
   "version": "3.12.0"
  }
 },
 "nbformat": 4,
 "nbformat_minor": 5
}
